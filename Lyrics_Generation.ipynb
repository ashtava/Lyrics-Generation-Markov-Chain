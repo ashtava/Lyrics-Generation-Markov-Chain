{
  "nbformat": 4,
  "nbformat_minor": 0,
  "metadata": {
    "colab": {
      "name": "Lyrics Generation",
      "provenance": []
    },
    "kernelspec": {
      "name": "python3",
      "display_name": "Python 3"
    }
  },
  "cells": [
    {
      "cell_type": "markdown",
      "metadata": {
        "id": "vZ6fg4AKZz5s",
        "colab_type": "text"
      },
      "source": [
        "A Markov Chain is a *sequence of states*. A sequence means that there is always a transition, a moment where a state goes from one state to another. The idea is to g**enerate a sequence of states, based on the existing states** and probability of an outcome after that.\n",
        "\n",
        "Here, we are using the concept of Markov Chain and implementing a **Character Based Language Model**"
      ]
    },
    {
      "cell_type": "code",
      "metadata": {
        "id": "8t7kVd2KfGSX",
        "colab_type": "code",
        "colab": {}
      },
      "source": [
        "import requests\n",
        "import numpy as np"
      ],
      "execution_count": null,
      "outputs": []
    },
    {
      "cell_type": "markdown",
      "metadata": {
        "id": "YwrtAa5jaT0r",
        "colab_type": "text"
      },
      "source": [
        "## **Importing the data for the model generation**"
      ]
    },
    {
      "cell_type": "code",
      "metadata": {
        "id": "q5YoykXUfY1m",
        "colab_type": "code",
        "colab": {}
      },
      "source": [
        "res = requests.get('https://storage.googleapis.com/kagglesdsdata/datasets%2F6776%2F81739%2Feminem.txt?GoogleAccessId=gcp-kaggle-com@kaggle-161607.iam.gserviceaccount.com&Expires=1594795381&Signature=nOM3giAuYRCmgjJYcnZxEU1SKY3u80crF9cTfIRnorCUGVAQyBUf2U4p%2FtTVABYYQEbKZWEIpwo3PDLiv1w%2Fli2gUKPOSwnp64cLy61iH4NXDPC%2FPiys5nHRAIO68UtHJLvNKMOjjCkUiHZH7wglOdHAOd7CARVfmTrpd1WBMw8eFoMcCsEyMaF8Fzj4Zr5YgTg8OadkbqNZhxdXV4vBIIEuiXTv0QquJ40mPNwsHJWWGHfZNR3tun8Z0NDKmpXX6ZQY8GRvY%2FxwrZ2DFXbp2qau2gTDutku5A1PEdAYwNQT9Lo8oQ2F3VTV6Dn0IRrxg%2F7kZyfS9c9FqGDeMVPEGA%3D%3D')\n",
        "#res = requests.get('https://raw.githubusercontent.com/coding-blocks-archives/ML-Noida-2019-June-Two/master/datasets/speeches/speech.txt')"
      ],
      "execution_count": null,
      "outputs": []
    },
    {
      "cell_type": "code",
      "metadata": {
        "id": "e26Gmnt9fiPF",
        "colab_type": "code",
        "colab": {
          "base_uri": "https://localhost:8080/",
          "height": 34
        },
        "outputId": "e23a506a-2efd-4897-80e8-83629a1ded6b"
      },
      "source": [
        "res"
      ],
      "execution_count": null,
      "outputs": [
        {
          "output_type": "execute_result",
          "data": {
            "text/plain": [
              "<Response [200]>"
            ]
          },
          "metadata": {
            "tags": []
          },
          "execution_count": 16
        }
      ]
    },
    {
      "cell_type": "code",
      "metadata": {
        "id": "d1I1BjVxfnNy",
        "colab_type": "code",
        "colab": {}
      },
      "source": [
        "data = res.text"
      ],
      "execution_count": null,
      "outputs": []
    },
    {
      "cell_type": "code",
      "metadata": {
        "id": "XHU_Zb8bfsKK",
        "colab_type": "code",
        "colab": {
          "base_uri": "https://localhost:8080/",
          "height": 323
        },
        "outputId": "86f43005-e48c-4ed0-f2b6-7584ce02a19e"
      },
      "source": [
        "print(data[:1000])"
      ],
      "execution_count": null,
      "outputs": [
        {
          "output_type": "stream",
          "text": [
            "Look, I was gonna go easy on you and not to hurt your feelings\n",
            "But I'm only going to get this one chance\n",
            "Something's wrong, I can feel it (Six minutes, Slim Shady, you're on)\n",
            "Just a feeling I've got, like something's about to happen, but I don't know what\n",
            "If that means, what I think it means, we're in trouble, big trouble,\n",
            "And if he is as bananas as you say, I'm not taking any chances\n",
            "You were just what the doctor ordered I'm beginning to feel like a Rap God, Rap God\n",
            "All my people from the front to the back nod, back nod\n",
            "Now who thinks their arms are long enough to slap box, slap box?\n",
            "They said I rap like a robot, so call me Rapbot But for me to rap like a computer must be in my genes\n",
            "I got a laptop in my back pocket\n",
            "My pen'll go off when I half-cock it\n",
            "Got a fat knot from that rap profit\n",
            "Made a living and a killing off it\n",
            "Ever since Bill Clinton was still in office\n",
            "With Monica Lewinsky feeling on his nut-sack\n",
            "I'm an MC still as honest\n",
            "But as rude and indecent as all hell syllables, ki\n"
          ],
          "name": "stdout"
        }
      ]
    },
    {
      "cell_type": "markdown",
      "metadata": {
        "id": "CfKWgtXgh1TC",
        "colab_type": "text"
      },
      "source": [
        "## **Markov Chains**"
      ]
    },
    {
      "cell_type": "code",
      "metadata": {
        "id": "65IlawN1h7cE",
        "colab_type": "code",
        "colab": {}
      },
      "source": [
        "def generateTable(data, k = 4):\n",
        "  T = {}\n",
        "\n",
        "  for i in range(len(data)-k):  # to iterate with leaving the last k iteration\n",
        "    X = data[i:i+k]\n",
        "    y = data[i+k]\n",
        "\n",
        "    if T.get(X) is None:\n",
        "      T[X] = {}\n",
        "      T[X][y] = 1\n",
        "    else:\n",
        "      if T[X].get(y) is None:\n",
        "        T[X][y] = 1\n",
        "      else:\n",
        "        T[X][y]+=1\n",
        "  return T\n"
      ],
      "execution_count": null,
      "outputs": []
    },
    {
      "cell_type": "code",
      "metadata": {
        "id": "xa1S6ZnAmECX",
        "colab_type": "code",
        "colab": {}
      },
      "source": [
        "T = generateTable(data.lower(), k=6)"
      ],
      "execution_count": null,
      "outputs": []
    },
    {
      "cell_type": "code",
      "metadata": {
        "id": "bn4WNL2avAUz",
        "colab_type": "code",
        "colab": {}
      },
      "source": [
        "inital_content = \"you know\""
      ],
      "execution_count": null,
      "outputs": []
    },
    {
      "cell_type": "code",
      "metadata": {
        "id": "wOsx51iOo3uT",
        "colab_type": "code",
        "colab": {}
      },
      "source": [
        "k = 6\n",
        "\n",
        "for i in range(1000):\n",
        "  inp = inital_content[-k:]\n",
        "\n",
        "  possible_chars = list(T[inp].keys())\n",
        "  possible_values = list(T[inp].values())\n",
        "\n",
        "  sum_ = sum(T[inp].values())\n",
        "\n",
        "  probabs =  np.array(possible_values)/sum_\n",
        "\n",
        "  next_char = np.random.choice(possible_chars, p = probabs)\n",
        "\n",
        "  inital_content += next_char"
      ],
      "execution_count": 41,
      "outputs": []
    },
    {
      "cell_type": "code",
      "metadata": {
        "id": "D0xJ3-L8vC1U",
        "colab_type": "code",
        "colab": {
          "base_uri": "https://localhost:8080/",
          "height": 833
        },
        "outputId": "6df4c20a-c584-4459-aed9-6ac12a5b9786"
      },
      "source": [
        "print(inital_content)"
      ],
      "execution_count": 43,
      "outputs": [
        {
          "output_type": "stream",
          "text": [
            "you know is euphoric, it's a game cart\n",
            "in the greatest verse standing up dust\n",
            "just another\n",
            "and pissed me out, times\n",
            "but i gotta call\n",
            "i hope i get it took\n",
            "and your mental advice and take that it'd be likes you could have him someone every mattress, every rhymes, looking up, i'mma keep goin'\n",
            "all i know respect gone?\n",
            "'cause fab said your fucking match that airplanes\n",
            "in this tug of war wages on\n",
            "knows me i'm throw fits\n",
            "how you like i know but actin' like some odd vans\n",
            "and my bed\n",
            "(get along with out ever compares\n",
            "to the further fuckin bum, see if you can only thing in control get struck goes home, her at me like a hard and my salsa makes all this l.a. shit\n",
            "i gets escaping, this world!\"\n",
            "don't matter\n",
            "i need no government hands\n",
            "once i blow\n",
            "this flow is gon' get it go\n",
            "you down\n",
            "so turn the king, i'm trying to be me\n",
            "i'll do anything above you don't get up drawin a bunch of gibberish\n",
            "and you watch the lighter\n",
            "but if we do what it's on till the girl to me, it's your best i can stun if you fucking looking lined up without even stop you over you\n",
            "no you wanna sleepwalking deep end\n",
            "i told thing,\n",
            "i ain't never know pistol pull from behind\n",
            "all my legacy, legacy like\n",
            "da-duh-da-da, it ain't, come get home soon\n",
            "and tell me skeletons in your frigity-friends\n",
            "pick up his daddy always sound)\n",
            "oops i mean time you've lost,\n",
            "no love) you sometimes you\n",
            "in a track\n",
            "give out, it's yours, you'll happening to wall too much) for turns to think about\n",
            "plus dre the lunchtime\n",
            "i am talkin' i'm outty,\n",
            "here, am i online? it's driving room, it says number than 90 perception pills, my two dimes are sweating music and system up\n",
            "some crazy\n",
            "i cant you, what'd i still, i'll always told him out that,\n",
            "i'm stop now i nutted early, 'cause no one make\n",
            "like winner down\n",
            "(now i feel tugging again? i'm libel to dig deep the mtv award is\n",
            "but if one know we love it! the wack fuck lotto california with flow is gon' do it by myself!\n",
            "let's his booger, wanna, roll back city's ropes\n",
            "it don't. on seconds away {lotto}\n",
            "i'll end up 'cause you'\n"
          ],
          "name": "stdout"
        }
      ]
    }
  ]
}